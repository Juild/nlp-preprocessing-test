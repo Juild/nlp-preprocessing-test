{
 "cells": [
  {
   "cell_type": "code",
   "execution_count": 69,
   "metadata": {},
   "outputs": [],
   "source": [
    "import bs4\n",
    "import requests\n",
    "import html2text\n",
    "from readability import Document\n",
    "import re"
   ]
  },
  {
   "cell_type": "code",
   "execution_count": 83,
   "metadata": {},
   "outputs": [],
   "source": [
    "def remove_md(text):\n",
    "    # Remove headings\n",
    "    text = re.sub(r'#', '', text)\n",
    "    # Remove bold or italic\n",
    "    text = re.sub(r'\\*', '', text)\n",
    "    text = re.sub(r'_', '', text)\n",
    "    # Remove links or images\n",
    "    text = re.sub(r'\\[|\\]', '', text)\n",
    "    text = re.sub(r'\\(|\\)', '', text)\n",
    "    text = re.sub(r'!', '', text)\n",
    "    text = re.sub(r'(https|http):\\/\\/.*\\b', '', text)\n",
    "    text = re.sub(r'(I|i)mage (C|c)aption', '', text)\n",
    "    # Remove token-like objects\n",
    "    #text = re.sub(r'\\', '', text)\n",
    "    return text\n",
    "\n"
   ]
  },
  {
   "cell_type": "code",
   "execution_count": 71,
   "metadata": {},
   "outputs": [],
   "source": [
    "def get_html_visible_text(url, parser='html2text', save_file=False):\n",
    "    response = requests.get(url)\n",
    "    # HTML contents of the response\n",
    "    html = response.text \n",
    "    doc = Document(html)\n",
    "    html_readified = doc.summary()\n",
    "    page_text = html2text.html2text(html_readified)\n",
    "    page_text = remove_md(page_text)\n",
    "    # heuristic to check if the the parser outputed something unexpected or the parsing was wrongly done\n",
    "    if page_text.count('\\n') < 10:\n",
    "        print(\"WARNING: readified html is really short there could be a parsing issue\")\n",
    "    page_title = doc.title()\n",
    "    if save_file:\n",
    "        with open(page_title + '.md', 'w+') as f:\n",
    "            f.write(page_text)\n",
    "    return page_text, page_title"
   ]
  },
  {
   "cell_type": "code",
   "execution_count": 72,
   "metadata": {},
   "outputs": [],
   "source": [
    "def get_text_after_title(page_text, page_title):\n",
    "    # match and remove everything before the page's title\n",
    "    print(page_title)\n",
    "    matched_str = re.search(f'(?<=^)(.*\\n)*(?={page_title})', page_text).group()\n",
    "    print(matched_str)\n",
    "    new_text = re.sub(f'(?<=^)(.*\\n)*(?={page_title})', '', page_text) \n",
    "    return new_text"
   ]
  },
  {
   "cell_type": "code",
   "execution_count": 73,
   "metadata": {},
   "outputs": [],
   "source": [
    "\n",
    "url = \"https://www.bbc.com/news/world-us-canada-56642644.amp\"\n",
    "url2 = 'https://www.bbc.com/news/entertainment-arts-60884259.amp'\n",
    "url3 = 'https://www.bbc.com/news/world-europe-60807538.amp'\n",
    "url4 = 'https://instapage.com/blog/amp'\n",
    "url5 = 'https://www.bbc.com/news/entertainment-arts-60865649'\n",
    "url6 = 'https://www.reuters.com/world/europe/france-file-criminal-complaint-against-care-group-orpea-minister-2022-03-26/'"
   ]
  },
  {
   "cell_type": "code",
   "execution_count": 84,
   "metadata": {},
   "outputs": [],
   "source": [
    "\n",
    "visible_text, page_title = get_html_visible_text(url, save_file=True)"
   ]
  }
 ],
 "metadata": {
  "interpreter": {
   "hash": "5edc29c2ed010d6458d71a83433b383a96a8cbd3efe8531bc90c4b8a5b8bcec9"
  },
  "kernelspec": {
   "display_name": "Python 3.8.9 64-bit",
   "language": "python",
   "name": "python3"
  },
  "language_info": {
   "codemirror_mode": {
    "name": "ipython",
    "version": 3
   },
   "file_extension": ".py",
   "mimetype": "text/x-python",
   "name": "python",
   "nbconvert_exporter": "python",
   "pygments_lexer": "ipython3",
   "version": "3.8.9"
  },
  "orig_nbformat": 4
 },
 "nbformat": 4,
 "nbformat_minor": 2
}
