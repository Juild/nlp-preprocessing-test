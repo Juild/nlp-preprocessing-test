{
 "cells": [
  {
   "cell_type": "code",
   "execution_count": 23,
   "metadata": {},
   "outputs": [],
   "source": [
    "import bs4\n",
    "import requests\n",
    "import html2text\n",
    "from readability import Document\n",
    "import re"
   ]
  },
  {
   "cell_type": "code",
   "execution_count": 27,
   "metadata": {},
   "outputs": [],
   "source": [
    "def remove_md(text):\n",
    "    # Remove headings\n",
    "    text = re.sub(r'#', '', text)\n",
    "    # Remove bold or italic\n",
    "    text = re.sub(r'\\*', '', text)\n",
    "    text = re.sub(r'_', '', text)\n",
    "    # Remove links or images\n",
    "    text = re.sub(r'\\[|\\]', '', text)\n",
    "    text = re.sub(r'\\(|\\)', '', text)\n",
    "    text = re.sub(r'!', '', text)\n",
    "    text = re.sub(r'(https|http):\\/\\/.*\\b', '', text)\n",
    "    # Remove token-like objects\n",
    "    #text = re.sub(r'\\', '', text)\n",
    "    return text\n",
    "\n"
   ]
  },
  {
   "cell_type": "code",
   "execution_count": 66,
   "metadata": {},
   "outputs": [],
   "source": [
    "def get_html_visible_text(url, parser='html2text', save_file=False):\n",
    "    response = requests.get(url)\n",
    "    # HTML contents of the response\n",
    "    html = response.text \n",
    "    doc = Document(html)\n",
    "    html_readified = doc.summary()\n",
    "    page_text = html2text.html2text(html_readified)\n",
    "    page_text = remove_md(page_text)\n",
    "    # heuristic to check if the the parser outputed something unexpected or the parsing was wrongly done\n",
    "    if page_text.count('\\n') < 10:\n",
    "        print(\"WARNING: readified html is really short there could be a parsing issue\")\n",
    "    page_title = doc.title()\n",
    "    if save_file:\n",
    "        with open(page_title + '.md', 'w+') as f:\n",
    "            f.write(page_text)\n",
    "    return page_text, page_title"
   ]
  },
  {
   "cell_type": "code",
   "execution_count": 127,
   "metadata": {},
   "outputs": [],
   "source": [
    "def get_text_after_title(page_text, page_title):\n",
    "    # match and remove everything before the page's title\n",
    "    print(page_title)\n",
    "    matched_str = re.search(f'(?<=^)(.*\\n)*(?={page_title})', page_text).group()\n",
    "    print(matched_str)\n",
    "    new_text = re.sub(f'(?<=^)(.*\\n)*(?={page_title})', '', page_text) \n",
    "    return new_text"
   ]
  },
  {
   "cell_type": "code",
   "execution_count": 52,
   "metadata": {},
   "outputs": [],
   "source": [
    "\n",
    "url = \"https://www.bbc.com/news/world-us-canada-56642644.amp\"\n",
    "url2 = 'https://www.bbc.com/news/entertainment-arts-60884259.amp'\n",
    "url3 = 'https://www.bbc.com/news/world-europe-60807538.amp'\n",
    "url4 = 'https://instapage.com/blog/amp'\n",
    "url5 = 'https://www.bbc.com/news/entertainment-arts-60865649'\n",
    "url6 = 'https://www.reuters.com/world/europe/france-file-criminal-complaint-against-care-group-orpea-minister-2022-03-26/'"
   ]
  },
  {
   "cell_type": "code",
   "execution_count": 67,
   "metadata": {},
   "outputs": [],
   "source": [
    "\n",
    "visible_text, page_title = get_html_visible_text(url6, save_file=True)"
   ]
  },
  {
   "cell_type": "code",
   "execution_count": 63,
   "metadata": {},
   "outputs": [
    {
     "data": {
      "text/plain": [
       "23"
      ]
     },
     "execution_count": 63,
     "metadata": {},
     "output_type": "execute_result"
    }
   ],
   "source": [
    "t = \"\"\"A view shows the logo of French care homes company Orpea at the entrance of a\n",
    "retirement home EHPAD - Housing Establishment for Dependant Elderly People\n",
    "in Reze near Nantes, France, February 2, 2022. REUTERS/Stephane Mahe\n",
    "\n",
    " Register now for FREE unlimited access to Reuters.com\n",
    "\n",
    "Register\n",
    "\n",
    "PARIS, March 26 Reuters - The French government plans to file a criminal\n",
    "complaint against home care group Orpea\n",
    "ORP.PA\n",
    "mistreatment of elderly patients, government minister Brigitte Bourguignon\n",
    "said in a statement Saturday.\n",
    "\n",
    "Following a month and a half investigation into the group's management and\n",
    "financial practices, the government found \"significant dysfunctioning in the\n",
    "group's management, to the detriment of the care of its residents,\" according\n",
    "to the health ministry.\n",
    "\n",
    "It will also seek to recover public funds provided to the company after\n",
    "uncovering possible irregularities in how they were used.\n",
    "\n",
    " Register now for FREE unlimited access to Reuters.com\n",
    "\"\"\"\n",
    "t.count('\\n')"
   ]
  },
  {
   "cell_type": "code",
   "execution_count": 17,
   "metadata": {},
   "outputs": [
    {
     "data": {
      "text/plain": [
       "'# Harvey Weinstein appeals against conviction for sex crimes\\n\\n5 April 2021\\n\\n **Lawyers for disgraced US film producer Harvey Weinstein have launched an\\nappeal against his conviction for rape and sexual assault.**\\n\\nWeinstein, 69, was convicted in New York City in February 2020 and later\\nsentenced to 23 years in prison.\\n\\nIt was seen as a landmark moment in the #MeToo movement against the sexual\\nabuse and harassment of women.\\n\\nWeinstein, formerly one of Hollywood\\'s most powerful figures, has consistently\\ndenied any wrongdoing.\\n\\nHe has vowed to clear his name. Filed in New York State Supreme Court, the\\nlong-anticipated appeal signals the start of what is expected to be a lengthy\\nattempt to have his conviction quashed.\\n\\nHis lawyers argue that the judge made several errors that denied Weinstein\\'s\\nright to a fair trial.\\n\\n\"With a year behind us and emotions subsided, the transcript of the case\\nconfirms what we always believed: that Mr Weinstein did not receive a fair\\ntrial,\" one of Weinstein\\'s lawyers, Arthur Aidala, said in a statement sent to\\nthe BBC on Monday.\\n\\nDozens of women have come forward with allegations of sexual misconduct,\\nincluding rape, against Weinstein, an Oscar-winning producer.\\n\\nWeinstein faces further criminal charges, for rape and sexual assault, in Los\\nAngeles, California, where he is due to stand trial.\\n\\nHe is currently being held in a maximum-security prison in New York state. He\\nhad heart surgery after his February 2020 conviction and tested positive for\\ncoronavirus a month later while in jail.\\n\\n## What was Weinstein convicted of?\\n\\nWeinstein faced five charges in the New York City trial but was only found\\nguilty of two.\\n\\nThe first was a first-degree criminal sexual act against production assistant\\nMiriam Haley in 2006. The second was a third-degree rape of aspiring actress\\nJessica Mann in 2013.\\n\\nNew York jurors acquitted him of the most serious charges, of predatory sexual\\nassault, which could have seen him given an even longer jail term.\\n\\n![](https://ichef.bbci.co.uk/images/ic/512xn/p086ghmn.jpg)\\n\\n **To play this content, please enable JavaScript, or try a different\\nbrowser**\\n\\nVideo caption,\\n\\nReaction to the court\\'s decision to sentence Harvey Weinstein to 23 years in\\njail (file image from 24 February 2020)\\n\\nWeinstein he did not testify to defend himself in court. But moments before he\\nwas sentenced, he read out a statement in which he expressed \"deep remorse\"\\nbut described himself as \"totally confused\" by the #MeToo movement.\\n\\nOutside court, Ms Haley said the assault had \"scarred me deeply, mentally and\\nemotionally\".\\n\\n\"What he did not only stripped me of my dignity as a human being and a woman,\\nbut it crushed my confidence,\" she said.\\n\\n## What does the appeal say?\\n\\nIn a 166-page brief, Weinstein\\'s lawyers raise seven examples of \"errors\"\\nthat, in their view, compromised the fairness of the trial.\\n\\nIn one argument, the lawyers say the trial was \"tainted by a single juror who\\ndemonstrated a strong and disqualifying bias in favour of the prosecution\".\\nThat juror, they say, was writing an autobiographical book about the sexual\\nharassment of younger women by older men.\\n\\nAnother argument says the testimony of women whose sexual allegations were not\\nthe subject of the criminal charges unfairly influenced the jury. Jurors heard\\ntestimony from the actress Annabella Sciorra, who accused Weinstein of raping\\nher in 1993.\\n\\nWeinstein was not charged with raping Sciorra, but prosecutors used her\\ntestimony to support their argument that he was a sexual predator.\\n\\nImage caption,\\n\\nA sketch of Weinstein during his sentencing\\n\\nA third argument says defence experts were improperly barred from rebutting\\nthe testimony of the prosecution\\'s witnesses.\\n\\n\"We will argue that the trial judge disregarded well accepted and fundamental\\nprinciples of New York law and violated Mr Weinstein\\'s constitutional rights,\"\\nWeinstein\\'s lawyer, Mr Aidala, said. \"We have the utmost confidence that the\\nAppellate Division will correct these mistakes and send this case back before\\na different judge.\"\\n\\nNow the appeal has been submitted, prosecutors will have a chance to respond\\nbefore a judge assesses the arguments and makes a decision.\\n\\n'"
      ]
     },
     "execution_count": 17,
     "metadata": {},
     "output_type": "execute_result"
    }
   ],
   "source": [
    "response = requests.get(url)\n",
    "html = response.text # HTML contents of the response\n",
    "\n"
   ]
  },
  {
   "cell_type": "code",
   "execution_count": 119,
   "metadata": {},
   "outputs": [
    {
     "name": "stdout",
     "output_type": "stream",
     "text": [
      "Several rubish\n",
      "here\n",
      "here \n",
      "\n",
      "and \n",
      "\n",
      "\n",
      "here\n",
      "\n",
      "\n"
     ]
    }
   ],
   "source": [
    "text = \"\"\"Several rubish\n",
    "here\n",
    "here \n",
    "\n",
    "and \n",
    "\n",
    "\n",
    "here\n",
    "\n",
    "TITLE\n",
    "\n",
    "RELEVANT CONTENTS\n",
    "HERE\n",
    "HERE\n",
    "\n",
    "AND\n",
    "\n",
    "HERE.\n",
    "END\"\"\"\n",
    "title = \"TITLE\"\n",
    "matched_str = re.search(f'(?<=^)(.*\\n)*(?={title})', text).group()\n",
    "print(matched_str)"
   ]
  }
 ],
 "metadata": {
  "interpreter": {
   "hash": "5edc29c2ed010d6458d71a83433b383a96a8cbd3efe8531bc90c4b8a5b8bcec9"
  },
  "kernelspec": {
   "display_name": "Python 3.8.9 64-bit",
   "language": "python",
   "name": "python3"
  },
  "language_info": {
   "codemirror_mode": {
    "name": "ipython",
    "version": 3
   },
   "file_extension": ".py",
   "mimetype": "text/x-python",
   "name": "python",
   "nbconvert_exporter": "python",
   "pygments_lexer": "ipython3",
   "version": "3.8.9"
  },
  "orig_nbformat": 4
 },
 "nbformat": 4,
 "nbformat_minor": 2
}
