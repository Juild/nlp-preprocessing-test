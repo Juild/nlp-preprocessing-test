{
 "cells": [
  {
   "cell_type": "code",
   "execution_count": 56,
   "metadata": {},
   "outputs": [],
   "source": [
    "from nltk.tokenize import sent_tokenize, word_tokenize\n",
    "from nltk.corpus import stopwords\n",
    "from string import punctuation\n",
    "import re\n",
    "from nltk.stem.porter import PorterStemmer"
   ]
  },
  {
   "cell_type": "code",
   "execution_count": 57,
   "metadata": {},
   "outputs": [
    {
     "name": "stdout",
     "output_type": "stream",
     "text": [
      "U.S. stock futures edged slightly higher ahead of overnight trading Wednesday\n",
      "following another down day in markets as investors digested inflation data\n",
      "that showed price levels remained elevated in April.\n",
      "\n",
      "Futures tied to the S&P 500 rose 0.3% after the index settled at 3,935.18, or\n",
      "its lowest level since March 2021. The S&P 500 is down more than 17% in the\n",
      "first 90 trading days of 2022, marking its second worst start to a year,\n",
      "according to data from Compound Capital Advisors. Contracts on the Dow Jones\n",
      "Industrial Average inched up 0.2% after a decline of 300 points, or just over\n",
      "1% in the main session, and Nasdaq Futures advanced 0.3% after the tech-heavy\n",
      "benchmark fell 3% during the trading day.\n",
      "\n",
      "The moves build on a streak of sharp losses in equity markets and follow\n",
      "April’s Consumer Price Index CPI out Wednesday, which showed an inflation\n",
      "rate that held near a 40-year high despite a marginal pullback from the prior\n",
      "month. Furthermore, the so-called core price index, which excludes the\n",
      "volatile food and energy categories, came in higher than economists had\n",
      "anticipated, stoking worries among investors that elevated prices may persist.\n",
      "\n",
      "April’s snapshot of inflation across the U.S. comes as investors gauge how\n",
      "aggressively the Federal Reserve will intervene to rein in rising price levels\n",
      "via monetary tightening, including increases on interest rates. Uncertainty\n",
      "around the central bank’s next move has spurred turbulence across risk assets,\n",
      "sending all three major indexes to their lowest trading levels year-to-date.\n",
      "\n",
      "“Inflation appears to be entrenched within many areas of the economy and\n",
      "regardless if we have witnessed inflation peak, a persistently slow grind\n",
      "lower will be more problematic for the Fed to simultaneously cool inflation\n",
      "without tipping the economy into recession,” Charlie Ripley, a senior\n",
      "investment strategist at Allianz Investment Management, said in an emailed\n",
      "note Wednesday.\n",
      "\n",
      "Cleveland Fed President Loretta\n",
      "Mester-\n",
      "yahoo-finance-transcript-may-2022-202300664.html told Yahoo Finance on\n",
      "Tuesday that interest rate hikes of 50 basis points were likely in the next\n",
      "two Federal Reserve policy-setting meetings, while leaving an increase of 75\n",
      "basis points on the table as the central bank ramps up its inflation-\n",
      "mitigation efforts.\n",
      "\n",
      "Story continues\n",
      "\n",
      "“It's going to be challenging, no doubt, because there are things going on on\n",
      "both the supply side and the demand side,” Mester said. “But the risks to\n",
      "inflation remaining high get even more risky as we keep going because of\n",
      "inflation expectations, so it’s really important we’re committed to doing what\n",
      "we need to do.”\n",
      "\n",
      "Peter Essele, head of portfolio management, Commonwealth Financial Network,\n",
      "said if inflation levels out in the second half of the year, there will be\n",
      "less pressure on the Fed to combat elevated price levels with aggressive\n",
      "monetary policies, \"which leaves open the possibility of a soft landing of the\n",
      "economy as opposed to the crash and burn that markets have been pricing in as\n",
      "of late.\"\n",
      "\n",
      "\"The second half of the year could be a strong period for equities and bonds\n",
      "if inflation continues to moderate and the magnitude of interest rate hikes\n",
      "come in under expectations,\" Essele said in a note. \"Currently, investors are\n",
      "pricing in a doomsday scenario with inflation and are missing the forest for\n",
      "the trees.\"\n",
      "\n",
      "—\n",
      "\n",
      " 6:14 p.m. ET Wednesday: Stock futures edge higher following continued\n",
      "losses in equities\n",
      "\n",
      "Here's where stock futures were in extended trading ahead of the overnight\n",
      "session Wednesday:\n",
      "\n",
      "    S &P 500 futures  ES=F\n",
      "\n",
      "    Dow futures  YM=F\n",
      "\n",
      "    Nasdaq futures  NQ=F\n",
      "\n",
      "    Crude  CL=F\n",
      "\n",
      "    Gold  GC=F\n",
      "\n",
      "    10-year Treasury  ^TNX%\n",
      "\n",
      "A trader works on the floor of the New York Stock Exchange NYSE in New York,\n",
      "the United States, May 5, 2022. U.S. stocks plunged on Thursday as heavy\n",
      "selling intensified on Wall Street. The Dow Jones Industrial Average tumbled\n",
      "1063.09 points, or 3.12 percent, to 32,997.97. The S&P 500 fell 153.30 points,\n",
      "or 3.56 percent, to 4,146.87. The Nasdaq Composite Index shed 647.17 points,\n",
      "or 4.99 percent, to 12,317.69. Photo by Michael Nagle/Xinhua via Getty\n",
      "Images\n",
      "\n",
      "—\n",
      "\n",
      "  Alexandra Semenova is a reporter for Yahoo Finance. Follow her on\n",
      "Twitter  @alexandraandnyc\n",
      "\n",
      " Read the latest financial and business news from Yahoo\n",
      "Finance/\n",
      "\n",
      "  Follow Yahoo Finance on \n",
      "Twitter  , \n",
      "Instagram  , \n",
      "YouTube  ,\n",
      " Facebook/  , \n",
      "Flipboard \n",
      "LinkedIn\n",
      "\n",
      "\n"
     ]
    }
   ],
   "source": [
    "article = ''\n",
    "with open('Stock market news live updates: May 12, 2022.md', 'r') as f:\n",
    "    article = f.read()\n",
    "print(article)"
   ]
  },
  {
   "cell_type": "code",
   "execution_count": 58,
   "metadata": {},
   "outputs": [],
   "source": [
    "def clean_text(text):\n",
    "    text_list = text.split()\n",
    "    # remove punctuation before tokenizing to avoid double for loop\n",
    "    text_list = [re.sub(r'\\W', '', word) for word in text_list]\n",
    "    # remove stopwords\n",
    "    text_filter_obj = filter(lambda token: False if token in stopwords.words('english') else True, text_list)\n",
    "    # Stemming\n",
    "    stemmer = PorterStemmer()\n",
    "    text_map_obj = map(stemmer.stem, text_filter_obj)\n",
    "    text = ' '.join(text_map_obj)\n",
    "    # sentence and word tokenization\n",
    "    text_tokenized = list(map(word_tokenize, sent_tokenize(text)))\n",
    "    \n",
    "    return text_tokenized"
   ]
  },
  {
   "cell_type": "code",
   "execution_count": 59,
   "metadata": {},
   "outputs": [
    {
     "name": "stdout",
     "output_type": "stream",
     "text": [
      "us stock futur edg slightli higher ahead overnight trade wednesday follow anoth day market investor digest inflat data show price level remain elev april futur tie sp 500 rose 03 index settl 393518 lowest level sinc march 2021 the sp 500 17 first 90 trade day 2022 mark second worst start year accord data compound capit advisor contract dow jone industri averag inch 02 declin 300 point 1 main session nasdaq futur advanc 03 techheavi benchmark fell 3 trade day the move build streak sharp loss equiti market follow april consum price index cpi wednesday show inflat rate held near 40year high despit margin pullback prior month furthermor socal core price index exclud volatil food energi categori came higher economist anticip stoke worri among investor elev price may persist april snapshot inflat across us come investor gaug aggress feder reserv interven rein rise price level via monetari tighten includ increas interest rate uncertainti around central bank next move spur turbul across risk asset send three major index lowest trade level yeartod inflat appear entrench within mani area economi regardless wit inflat peak persist slow grind lower problemat fed simultan cool inflat without tip economi recess charli ripley senior invest strategist allianz invest manag said email note wednesday cleveland fed presid loretta mester yahoofinancetranscriptmay2022202300664html told yahoo financ tuesday interest rate hike 50 basi point like next two feder reserv policyset meet leav increas 75 basi point tabl central bank ramp inflat mitig effort stori continu it go challeng doubt thing go suppli side demand side mester said but risk inflat remain high get even riski keep go inflat expect realli import commit need peter essel head portfolio manag commonwealth financi network said inflat level second half year less pressur fed combat elev price level aggress monetari polici leav open possibl soft land economi oppos crash burn market price late the second half year could strong period equiti bond inflat continu moder magnitud interest rate hike come expect essel said note current investor price doomsday scenario inflat miss forest tree 614 pm et wednesday stock futur edg higher follow continu loss equiti here stock futur extend trade ahead overnight session wednesday s p 500 futur esf dow futur ymf nasdaq futur nqf crude clf gold gcf 10year treasuri tnx a trader work floor new york stock exchang nyse new york unit state may 5 2022 us stock plung thursday heavi sell intensifi wall street the dow jone industri averag tumbl 106309 point 312 percent 3299797 the sp 500 fell 15330 point 356 percent 414687 the nasdaq composit index shed 64717 point 499 percent 1231769 photo michael naglexinhua via getti imag alexandra semenova report yahoo financ follow twitter alexandraandnyc read latest financi busi news yahoo financ follow yahoo financ twitter instagram youtub facebook flipboard linkedin\n"
     ]
    }
   ],
   "source": [
    " clean_article = clean_text(article)\n",
    " for sentence in clean_article:\n",
    "     print(' '.join(sentence))"
   ]
  },
  {
   "cell_type": "code",
   "execution_count": 2,
   "metadata": {},
   "outputs": [],
   "source": [
    "import numpy as np\n",
    "import textmining"
   ]
  },
  {
   "cell_type": "code",
   "execution_count": 46,
   "metadata": {},
   "outputs": [],
   "source": [
    "text = \"\"\"What is a Corpus?\n",
    "\n",
    "The word \"corpus\", derived from the Latin word meaning \"body\", may be used to refer to any text in written or spoken form. However, in modern Linguistics this term is used to refer to large collections of texts which represent a sample of a particular variety or use of language(s) that are presented in machine readable form. Other definitions, broader or stricter, exist. See, for example, the definition in the book \"Corpus Linguistics\" by Tony McEnery and Andrew Wilson or read more about different kinds of corpora in the Systematic Dictionary of Corpus Linguistics.\n",
    "Computer-readable corpora can consist of raw text only, i.e. plain text with no additional information. Many corpora have been provided with some kind of linguistic information, here called mark-up or annotation.\n",
    "\n",
    "Types of corpora\n",
    "\n",
    "There are many different kinds of corpora. They can contain written or spoken (transcribed) language, modern or old texts, texts from one language or several languages. The texts can be whole books, newspapers, journals, speeches etc, or consist of extracts of varying length. The kind of texts included and the combination of different texts vary between different corpora and corpus types.\n",
    "\n",
    "'General corpora' consist of general texts, texts that do not belong to a single text type, subject field, or register. An example of a general corpus is the British National Corpus. Some corpora contain texts that are sampled (chosen from) a particular variety of a language, for example, from a particular dialect or from a particular subject area. These corpora are sometimes called 'Sublanguage Corpora'.\n",
    "\n",
    "Corpora can consist of texts in one language (or language variety) only or of texts in more than one language. If the texts are the same in all languages, e.i. translations, the corpus is called a Parallel Corpus. A Comparable Corpus is a collection of \"similar\" text\n",
    "\n",
    "For a list of various corpora, click HERE\n",
    "\n",
    "Corpora serve as the basis for a number of research tasks within the field of Corpus Linguistics.\"\"\"\n",
    "corpus = sent_tokenize(text)\n"
   ]
  },
  {
   "cell_type": "code",
   "execution_count": 47,
   "metadata": {},
   "outputs": [],
   "source": [
    "tdm = textmining.TermDocumentMatrix()"
   ]
  },
  {
   "cell_type": "code",
   "execution_count": 48,
   "metadata": {},
   "outputs": [],
   "source": [
    "for document in corpus:\n",
    "    tdm.add_doc(document)"
   ]
  },
  {
   "cell_type": "code",
   "execution_count": 55,
   "metadata": {},
   "outputs": [
    {
     "name": "stdout",
     "output_type": "stream",
     "text": [
      "20\n"
     ]
    }
   ],
   "source": [
    "df = tdm.to_df()\n",
    "tdm.to_df()\n",
    "print(np.linalg.matrix_rank(tdm.to_df().to_numpy()))"
   ]
  },
  {
   "cell_type": "code",
   "execution_count": 50,
   "metadata": {},
   "outputs": [
    {
     "data": {
      "text/plain": [
       "(array([[-6.03041991e-02,  7.70883309e-02, -8.84975807e-02,\n",
       "          8.23252665e-02, -4.01112774e-04,  1.84678647e-01,\n",
       "         -4.32059246e-02,  5.88288385e-02, -1.15386684e-01,\n",
       "          9.47937335e-02,  2.46450749e-01, -2.60654487e-02,\n",
       "          8.79586348e-02, -6.64411984e-02,  8.10008029e-02,\n",
       "         -3.42813501e-02,  6.36649417e-02, -3.76683684e-01,\n",
       "          3.88555664e-01,  7.32020105e-01],\n",
       "        [-1.54380336e-01, -2.03372116e-03,  1.67264870e-01,\n",
       "          5.92629375e-01,  9.47106305e-02, -2.39299312e-01,\n",
       "         -2.84031197e-01, -4.12654486e-01,  3.34852224e-02,\n",
       "         -9.25414105e-02, -5.64143170e-02, -2.50246131e-01,\n",
       "          3.16163348e-01,  2.35870213e-01, -1.59431485e-01,\n",
       "         -8.87388119e-02, -1.14384940e-01,  1.60854360e-04,\n",
       "          3.40464331e-02,  3.40996172e-02],\n",
       "        [-3.73771580e-01, -1.73235341e-01, -8.99627854e-02,\n",
       "          1.61250564e-01,  7.06824312e-01, -2.54412241e-01,\n",
       "          1.52488067e-01,  1.67655675e-01, -2.47489170e-01,\n",
       "         -3.57257563e-02,  1.70866706e-01,  9.04603188e-02,\n",
       "         -1.41576250e-01, -1.19947454e-01,  1.52195437e-01,\n",
       "          1.15465661e-01,  6.20894827e-02,  6.31513845e-02,\n",
       "         -2.10426023e-02, -3.71932220e-02],\n",
       "        [-1.96076655e-02, -5.80803741e-02,  2.33834262e-02,\n",
       "          2.70809966e-02, -3.02235142e-02,  3.63381042e-02,\n",
       "         -2.20944289e-02, -7.92099427e-02, -6.31916086e-02,\n",
       "          3.66894063e-03, -8.36410156e-02,  2.46402565e-02,\n",
       "         -6.55414238e-02, -1.26647693e-01,  7.76419198e-03,\n",
       "          9.61054758e-02, -3.23913789e-02, -1.98369984e-01,\n",
       "          8.04286967e-01, -5.07392261e-01],\n",
       "        [-3.33283115e-01,  2.81866260e-01,  3.86713064e-01,\n",
       "          2.21135163e-01, -1.46232269e-01, -1.52119078e-02,\n",
       "          4.07023888e-01, -5.98624478e-02,  1.34376698e-01,\n",
       "          2.91436664e-01, -4.28259807e-01,  7.02208920e-02,\n",
       "         -1.04475603e-01, -2.00449762e-01,  1.98244721e-01,\n",
       "          1.31269048e-01,  6.39248936e-02, -7.10830473e-02,\n",
       "         -5.67606677e-02,  9.40221697e-02],\n",
       "        [-9.25985205e-02, -1.11682236e-02,  6.43979809e-02,\n",
       "         -2.30141649e-01,  1.17168938e-01,  9.90637392e-04,\n",
       "         -1.59644569e-01, -1.67233639e-01,  5.34950375e-01,\n",
       "         -1.82735276e-01,  1.82219411e-01,  6.20267246e-02,\n",
       "          3.66259956e-01, -2.62587278e-01,  4.95942163e-01,\n",
       "          1.78603855e-01, -1.68920888e-01, -1.63194536e-02,\n",
       "         -1.49836539e-02, -2.02156365e-02],\n",
       "        [-8.28195208e-03,  5.32044653e-03,  1.11481690e-03,\n",
       "         -1.87328925e-02,  1.46349652e-02, -5.64443281e-03,\n",
       "         -1.09781265e-01, -1.77925469e-01, -2.16490737e-03,\n",
       "          1.75302977e-03, -4.93492781e-02,  2.98322569e-01,\n",
       "          7.51368558e-02,  2.11109461e-01,  3.27171463e-01,\n",
       "         -4.11308133e-01,  7.25523833e-01,  6.20276375e-02,\n",
       "          5.35573371e-02, -6.80226761e-02],\n",
       "        [-1.01527377e-01, -1.56737297e-02,  3.41629964e-02,\n",
       "         -2.27119895e-01, -5.27145572e-02, -6.08194700e-02,\n",
       "         -3.95744659e-02, -5.35740075e-01, -3.56749375e-01,\n",
       "          5.55035889e-02,  1.98423502e-02,  6.14348962e-01,\n",
       "         -3.81035313e-02,  3.23146765e-02, -6.91928857e-02,\n",
       "          3.80478689e-02, -3.35172075e-01, -8.52371119e-03,\n",
       "         -5.00769614e-02,  9.90623572e-02],\n",
       "        [-1.55922600e-01,  8.42790772e-02,  7.12339883e-02,\n",
       "         -4.09729738e-01,  1.12410386e-02, -3.18463793e-01,\n",
       "          1.18954378e-01, -2.22684944e-01, -1.13636713e-01,\n",
       "          4.93038443e-02,  9.96301731e-02, -4.29881240e-01,\n",
       "         -1.23304619e-02, -2.96394616e-01, -9.24593201e-02,\n",
       "         -4.85902036e-01,  6.87392118e-03, -2.75686673e-01,\n",
       "         -7.84006923e-02, -7.36990939e-02],\n",
       "        [-1.59713723e-01, -5.20488401e-01,  1.39115558e-01,\n",
       "          1.56401511e-01, -3.45671978e-01,  2.39112522e-01,\n",
       "         -1.39005082e-01, -1.43905224e-01, -2.32600481e-01,\n",
       "         -2.34529266e-01,  6.49522440e-02, -2.20229997e-01,\n",
       "         -3.37689366e-01, -2.26478302e-01,  3.04555196e-01,\n",
       "          1.23192908e-02,  2.90552748e-02,  8.09605195e-02,\n",
       "         -1.19329467e-01,  3.70976319e-02],\n",
       "        [-1.66773747e-01, -5.78736650e-02,  1.66285315e-01,\n",
       "         -8.79183628e-02,  1.50494416e-02,  2.07863379e-02,\n",
       "         -1.74128732e-01,  6.93496949e-02,  6.99912719e-02,\n",
       "         -3.95425931e-01, -1.69824882e-01,  1.95056631e-01,\n",
       "          1.30062239e-01, -4.22669898e-01, -5.61956330e-01,\n",
       "          1.44589330e-01,  3.52593320e-01, -6.21442507e-03,\n",
       "         -8.49254393e-03,  1.13225983e-01],\n",
       "        [-2.49434113e-01,  1.51856866e-01,  3.14532908e-01,\n",
       "         -1.58515020e-01, -3.63134287e-01, -3.86391711e-01,\n",
       "         -1.00745494e-01,  4.21653780e-01, -2.97799139e-01,\n",
       "         -1.94681061e-01,  1.63459943e-01,  2.34071355e-02,\n",
       "          2.11370532e-01,  2.61107275e-01,  1.57222666e-01,\n",
       "          1.26714946e-01, -2.62949167e-02,  7.54923051e-02,\n",
       "          8.60264501e-02, -1.68587892e-02],\n",
       "        [-2.03661427e-01, -1.41199317e-01, -3.77150236e-02,\n",
       "         -1.48685846e-01,  5.07860797e-02, -1.08817378e-01,\n",
       "         -6.84778752e-01,  1.95799329e-01,  9.53379745e-02,\n",
       "          4.94674310e-01, -2.86617004e-01,  5.47170157e-03,\n",
       "         -1.72082692e-01,  7.33497118e-03,  1.38160159e-02,\n",
       "          2.56716381e-02, -4.23947505e-02, -1.41835746e-01,\n",
       "         -6.83761798e-02,  1.72537934e-02],\n",
       "        [-1.58336148e-01,  1.93445131e-01, -1.56376866e-02,\n",
       "          1.45206734e-01, -5.75163232e-02,  2.45623147e-01,\n",
       "         -1.19919514e-01,  1.42852399e-01, -1.06600087e-01,\n",
       "          2.66392748e-01,  1.88559896e-01,  6.90944118e-02,\n",
       "          2.09221449e-01, -3.77457884e-01, -5.30516992e-02,\n",
       "         -3.68842484e-01, -1.56133788e-01,  5.74273783e-01,\n",
       "          1.08410202e-01, -6.37728085e-02],\n",
       "        [-3.63196405e-01, -2.31926532e-01, -6.90708227e-01,\n",
       "          9.97602214e-02, -3.83282446e-01, -2.35734362e-01,\n",
       "          2.15044188e-01,  1.95272013e-02,  1.52488221e-01,\n",
       "          2.19498283e-02, -8.45869277e-02,  8.63779470e-02,\n",
       "          1.89120483e-01, -2.25067847e-02, -5.17521544e-02,\n",
       "         -1.31135699e-02,  7.71477379e-03, -2.35539043e-02,\n",
       "         -1.45490782e-03, -8.75934259e-03],\n",
       "        [-5.20972715e-02,  2.31324412e-02, -9.86743694e-03,\n",
       "         -1.92834878e-01, -6.87420693e-02, -1.49016361e-01,\n",
       "          1.90552060e-02, -3.31267936e-01,  8.21397825e-02,\n",
       "          3.17118842e-01,  3.01251311e-01, -2.54489416e-01,\n",
       "         -1.27166566e-01,  6.03263911e-02, -1.43874503e-01,\n",
       "          4.60614251e-01,  3.26035641e-01,  4.10072277e-01,\n",
       "          1.47984664e-01,  1.02823886e-01],\n",
       "        [-2.99364042e-01, -4.90913594e-01,  3.08509920e-01,\n",
       "         -2.16937465e-01,  9.61456957e-02,  3.50208571e-01,\n",
       "          2.57385107e-01,  6.95285361e-02,  1.40843236e-01,\n",
       "          1.93984700e-01,  5.87703735e-02, -1.44706402e-02,\n",
       "          2.68087545e-01,  3.57362416e-01, -2.07653861e-01,\n",
       "         -1.21122302e-01, -4.97217461e-02, -2.35680459e-02,\n",
       "          4.39206742e-02, -2.67749442e-02],\n",
       "        [-9.55980455e-02,  1.46786807e-02,  1.65896682e-01,\n",
       "          1.75771546e-01, -1.20123809e-01, -1.92726109e-01,\n",
       "         -7.40701570e-03,  7.64191584e-02,  4.88526008e-01,\n",
       "         -6.27493635e-02,  4.32576461e-01,  2.68410236e-01,\n",
       "         -5.10422671e-01,  7.04911607e-02, -1.73438447e-01,\n",
       "         -2.50463839e-01, -8.85333082e-02, -5.57093849e-02,\n",
       "          6.10740837e-02,  3.70358677e-03],\n",
       "        [-1.04871307e-01,  1.74859315e-01, -2.25497343e-02,\n",
       "          1.98388217e-01, -1.11250619e-01,  2.48310664e-01,\n",
       "         -7.59091698e-02, -1.54971990e-02, -1.34138893e-01,\n",
       "          2.14192791e-01,  4.43533345e-01,  6.60871952e-02,\n",
       "          1.52440214e-01, -7.08691792e-02, -7.85571479e-02,\n",
       "          2.21281151e-01,  1.86968480e-01, -4.38861850e-01,\n",
       "         -3.45989394e-01, -3.78019620e-01],\n",
       "        [-5.01628227e-01,  4.39238488e-01, -2.18238813e-01,\n",
       "         -1.69221006e-01,  8.44574885e-02,  3.98622163e-01,\n",
       "         -1.14144365e-01, -9.47127211e-02,  3.57373715e-02,\n",
       "         -3.22322762e-01, -8.85128537e-02, -1.64811673e-01,\n",
       "         -2.43025759e-01,  2.90581633e-01, -1.16649730e-02,\n",
       "         -2.01126589e-03, -5.39107732e-02,  4.85328804e-02,\n",
       "          1.28996665e-02, -4.36868688e-02]]),\n",
       " array([11.93729061,  7.11649166,  6.51918448,  4.98682546,  4.41755975,\n",
       "         3.92770989,  3.87812203,  3.42244004,  3.0758994 ,  2.75868196,\n",
       "         2.69222728,  2.44000893,  2.35445593,  2.14261076,  1.90056405,\n",
       "         1.5934178 ,  1.24612645,  0.98002207,  0.67086983,  0.52139863]),\n",
       " array([[-0.10043414, -0.39657364, -0.22286098, ..., -0.04738588,\n",
       "         -0.04748631, -0.05908289],\n",
       "        [ 0.09996441,  0.11058407,  0.33804998, ..., -0.01249963,\n",
       "         -0.05243115,  0.04188007],\n",
       "        [-0.06670874, -0.61052326,  0.10029995, ..., -0.01396919,\n",
       "         -0.11173533, -0.03926163],\n",
       "        ...,\n",
       "        [ 0.22032843, -0.11774184, -0.1025866 , ...,  0.26577806,\n",
       "         -0.10122683, -0.14668268],\n",
       "        [ 0.13925731, -0.13784372, -0.00141359, ..., -0.15517465,\n",
       "          0.88505814, -0.06516026],\n",
       "        [ 0.16724186, -0.20944888,  0.04220702, ..., -0.12481027,\n",
       "         -0.06335596,  0.87726724]]))"
      ]
     },
     "execution_count": 50,
     "metadata": {},
     "output_type": "execute_result"
    }
   ],
   "source": [
    "A = df.to_numpy()\n",
    "U, Sigma, Vt = np.linalg.svd(A)\n",
    "np.linalg.svd(A)"
   ]
  },
  {
   "cell_type": "code",
   "execution_count": 53,
   "metadata": {},
   "outputs": [],
   "source": [
    "import pandas as pd\n",
    "distributed = pd.DataFrame(np.outer(U.T[0], Vt[0]) *Sigma[0])"
   ]
  },
  {
   "cell_type": "code",
   "execution_count": 54,
   "metadata": {},
   "outputs": [
    {
     "data": {
      "text/plain": [
       "1"
      ]
     },
     "execution_count": 54,
     "metadata": {},
     "output_type": "execute_result"
    }
   ],
   "source": [
    "np.linalg.matrix_rank(distributed.to_numpy())"
   ]
  }
 ],
 "metadata": {
  "interpreter": {
   "hash": "5edc29c2ed010d6458d71a83433b383a96a8cbd3efe8531bc90c4b8a5b8bcec9"
  },
  "kernelspec": {
   "display_name": "Python 3.8.9 64-bit",
   "language": "python",
   "name": "python3"
  },
  "language_info": {
   "codemirror_mode": {
    "name": "ipython",
    "version": 3
   },
   "file_extension": ".py",
   "mimetype": "text/x-python",
   "name": "python",
   "nbconvert_exporter": "python",
   "pygments_lexer": "ipython3",
   "version": "3.8.9"
  },
  "orig_nbformat": 4
 },
 "nbformat": 4,
 "nbformat_minor": 2
}
