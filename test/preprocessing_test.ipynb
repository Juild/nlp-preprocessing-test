{
 "cells": [
  {
   "cell_type": "code",
   "execution_count": 1,
   "metadata": {},
   "outputs": [],
   "source": [
    "from nltk.tokenize import sent_tokenize, word_tokenize\n",
    "from nltk.corpus import stopwords\n",
    "from string import punctuation\n",
    "import re\n",
    "from nltk.stem.porter import PorterStemmer"
   ]
  },
  {
   "cell_type": "code",
   "execution_count": 10,
   "metadata": {},
   "outputs": [
    {
     "name": "stdout",
     "output_type": "stream",
     "text": [
      " Harvey Weinstein appeals against conviction for sex crimes\n",
      "\n",
      "5 April 2021\n",
      "\n",
      " Lawyers for disgraced US film producer Harvey Weinstein have launched an\n",
      "appeal against his conviction for rape and sexual assault.\n",
      "\n",
      "Weinstein, 69, was convicted in New York City in February 2020 and later\n",
      "sentenced to 23 years in prison.\n",
      "\n",
      "It was seen as a landmark moment in the MeToo movement against the sexual\n",
      "abuse and harassment of women.\n",
      "\n",
      "Weinstein, formerly one of Hollywood's most powerful figures, has consistently\n",
      "denied any wrongdoing.\n",
      "\n",
      "He has vowed to clear his name. Filed in New York State Supreme Court, the\n",
      "long-anticipated appeal signals the start of what is expected to be a lengthy\n",
      "attempt to have his conviction quashed.\n",
      "\n",
      "His lawyers argue that the judge made several errors that denied Weinstein's\n",
      "right to a fair trial.\n",
      "\n",
      "\"With a year behind us and emotions subsided, the transcript of the case\n",
      "confirms what we always believed: that Mr Weinstein did not receive a fair\n",
      "trial,\" one of Weinstein's lawyers, Arthur Aidala, said in a statement sent to\n",
      "the BBC on Monday.\n",
      "\n",
      "Dozens of women have come forward with allegations of sexual misconduct,\n",
      "including rape, against Weinstein, an Oscar-winning producer.\n",
      "\n",
      "Weinstein faces further criminal charges, for rape and sexual assault, in Los\n",
      "Angeles, California, where he is due to stand trial.\n",
      "\n",
      "He is currently being held in a maximum-security prison in New York state. He\n",
      "had heart surgery after his February 2020 conviction and tested positive for\n",
      "coronavirus a month later while in jail.\n",
      "\n",
      " What was Weinstein convicted of?\n",
      "\n",
      "Weinstein faced five charges in the New York City trial but was only found\n",
      "guilty of two.\n",
      "\n",
      "The first was a first-degree criminal sexual act against production assistant\n",
      "Miriam Haley in 2006. The second was a third-degree rape of aspiring actress\n",
      "Jessica Mann in 2013.\n",
      "\n",
      "New York jurors acquitted him of the most serious charges, of predatory sexual\n",
      "assault, which could have seen him given an even longer jail term.\n",
      "\n",
      "\n",
      "\n",
      " To play this content, please enable JavaScript, or try a different\n",
      "browser\n",
      "\n",
      ",\n",
      "\n",
      "Reaction to the court's decision to sentence Harvey Weinstein to 23 years in\n",
      "jail file image from 24 February 2020\n",
      "\n",
      "Weinstein he did not testify to defend himself in court. But moments before he\n",
      "was sentenced, he read out a statement in which he expressed \"deep remorse\"\n",
      "but described himself as \"totally confused\" by the MeToo movement.\n",
      "\n",
      "Outside court, Ms Haley said the assault had \"scarred me deeply, mentally and\n",
      "emotionally\".\n",
      "\n",
      "\"What he did not only stripped me of my dignity as a human being and a woman,\n",
      "but it crushed my confidence,\" she said.\n",
      "\n",
      " What does the appeal say?\n",
      "\n",
      "In a 166-page brief, Weinstein's lawyers raise seven examples of \"errors\"\n",
      "that, in their view, compromised the fairness of the trial.\n",
      "\n",
      "In one argument, the lawyers say the trial was \"tainted by a single juror who\n",
      "demonstrated a strong and disqualifying bias in favour of the prosecution\".\n",
      "That juror, they say, was writing an autobiographical book about the sexual\n",
      "harassment of younger women by older men.\n",
      "\n",
      "Another argument says the testimony of women whose sexual allegations were not\n",
      "the subject of the criminal charges unfairly influenced the jury. Jurors heard\n",
      "testimony from the actress Annabella Sciorra, who accused Weinstein of raping\n",
      "her in 1993.\n",
      "\n",
      "Weinstein was not charged with raping Sciorra, but prosecutors used her\n",
      "testimony to support their argument that he was a sexual predator.\n",
      "\n",
      ",\n",
      "\n",
      "A sketch of Weinstein during his sentencing\n",
      "\n",
      "A third argument says defence experts were improperly barred from rebutting\n",
      "the testimony of the prosecution's witnesses.\n",
      "\n",
      "\"We will argue that the trial judge disregarded well accepted and fundamental\n",
      "principles of New York law and violated Mr Weinstein's constitutional rights,\"\n",
      "Weinstein's lawyer, Mr Aidala, said. \"We have the utmost confidence that the\n",
      "Appellate Division will correct these mistakes and send this case back before\n",
      "a different judge.\"\n",
      "\n",
      "Now the appeal has been submitted, prosecutors will have a chance to respond\n",
      "before a judge assesses the arguments and makes a decision.\n",
      "\n",
      "\n"
     ]
    }
   ],
   "source": [
    "article = ''\n",
    "with open('Harvey Weinstein appeals against conviction for sex crimes - BBC News.md', 'r') as f:\n",
    "    article = f.read()\n",
    "print(article)"
   ]
  },
  {
   "cell_type": "code",
   "execution_count": 5,
   "metadata": {},
   "outputs": [],
   "source": [
    "def clean_text(text):\n",
    "    text_list = text.split()\n",
    "    # remove punctuation before tokenizing to avoid double for loop\n",
    "    text_list = [re.sub(r'\\W', '', word) for word in text_list]\n",
    "    # remove stopwords\n",
    "    text_filter_obj = filter(lambda token: False if token in stopwords.words('english') else True, text_list)\n",
    "    # Stemming\n",
    "    stemmer = PorterStemmer()\n",
    "    text_map_obj = map(stemmer.stem, text_filter_obj)\n",
    "    text = ' '.join(text_map_obj)\n",
    "    # sentence and word tokenization\n",
    "    text_tokenized = list(map(word_tokenize, sent_tokenize(text)))\n",
    "    \n",
    "    return text_tokenized"
   ]
  },
  {
   "cell_type": "code",
   "execution_count": 11,
   "metadata": {},
   "outputs": [
    {
     "name": "stdout",
     "output_type": "stream",
     "text": [
      "harvey weinstein appeal convict sex crime 5 april 2021 lawyer disgrac us film produc harvey weinstein launch appeal convict rape sexual assault weinstein 69 convict new york citi februari 2020 later sentenc 23 year prison it seen landmark moment metoo movement sexual abus harass women weinstein formerli one hollywood power figur consist deni wrongdo he vow clear name file new york state suprem court longanticip appeal signal start expect lengthi attempt convict quash hi lawyer argu judg made sever error deni weinstein right fair trial with year behind us emot subsid transcript case confirm alway believ mr weinstein receiv fair trial one weinstein lawyer arthur aidala said statement sent bbc monday dozen women come forward alleg sexual misconduct includ rape weinstein oscarwin produc weinstein face crimin charg rape sexual assault lo angel california due stand trial he current held maximumsecur prison new york state he heart surgeri februari 2020 convict test posit coronaviru month later jail what weinstein convict weinstein face five charg new york citi trial found guilti two the first firstdegre crimin sexual act product assist miriam haley 2006 the second thirddegre rape aspir actress jessica mann 2013 new york juror acquit seriou charg predatori sexual assault could seen given even longer jail term to play content pleas enabl javascript tri differ browser reaction court decis sentenc harvey weinstein 23 year jail file imag 24 februari 2020 weinstein testifi defend court but moment sentenc read statement express deep remors describ total confus metoo movement outsid court ms haley said assault scar deepli mental emot what strip digniti human woman crush confid said what appeal say in 166page brief weinstein lawyer rais seven exampl error view compromis fair trial in one argument lawyer say trial taint singl juror demonstr strong disqualifi bia favour prosecut that juror say write autobiograph book sexual harass younger women older men anoth argument say testimoni women whose sexual alleg subject crimin charg unfairli influenc juri juror heard testimoni actress annabella sciorra accus weinstein rape 1993 weinstein charg rape sciorra prosecutor use testimoni support argument sexual predat a sketch weinstein sentenc a third argument say defenc expert improperli bar rebut testimoni prosecut wit we argu trial judg disregard well accept fundament principl new york law violat mr weinstein constitut right weinstein lawyer mr aidala said we utmost confid appel divis correct mistak send case back differ judg now appeal submit prosecutor chanc respond judg assess argument make decis\n"
     ]
    }
   ],
   "source": [
    " clean_article = clean_text(article)\n",
    " for sentence in clean_article:\n",
    "     print(' '.join(sentence))"
   ]
  }
 ],
 "metadata": {
  "interpreter": {
   "hash": "5edc29c2ed010d6458d71a83433b383a96a8cbd3efe8531bc90c4b8a5b8bcec9"
  },
  "kernelspec": {
   "display_name": "Python 3.8.9 64-bit",
   "language": "python",
   "name": "python3"
  },
  "language_info": {
   "codemirror_mode": {
    "name": "ipython",
    "version": 3
   },
   "file_extension": ".py",
   "mimetype": "text/x-python",
   "name": "python",
   "nbconvert_exporter": "python",
   "pygments_lexer": "ipython3",
   "version": "3.8.9"
  },
  "orig_nbformat": 4
 },
 "nbformat": 4,
 "nbformat_minor": 2
}
